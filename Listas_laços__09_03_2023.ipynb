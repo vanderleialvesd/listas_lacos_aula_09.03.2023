{
  "nbformat": 4,
  "nbformat_minor": 0,
  "metadata": {
    "colab": {
      "provenance": [],
      "authorship_tag": "ABX9TyOh004OIYhAAcsZZkrSk/xq",
      "include_colab_link": true
    },
    "kernelspec": {
      "name": "python3",
      "display_name": "Python 3"
    },
    "language_info": {
      "name": "python"
    }
  },
  "cells": [
    {
      "cell_type": "markdown",
      "metadata": {
        "id": "view-in-github",
        "colab_type": "text"
      },
      "source": [
        "<a href=\"https://colab.research.google.com/github/vanderleialvesd/listas_lacos_aula_09.03.2023/blob/main/Listas_la%C3%A7os__09_03_2023.ipynb\" target=\"_parent\"><img src=\"https://colab.research.google.com/assets/colab-badge.svg\" alt=\"Open In Colab\"/></a>"
      ]
    },
    {
      "cell_type": "code",
      "execution_count": null,
      "metadata": {
        "colab": {
          "base_uri": "https://localhost:8080/"
        },
        "id": "XapU9A6KCcgI",
        "outputId": "00ffc206-cf83-4813-9da7-85adbf34a07f"
      },
      "outputs": [
        {
          "output_type": "stream",
          "name": "stdout",
          "text": [
            "['banana', 'laranja', 'maçã']\n"
          ]
        }
      ],
      "source": [
        "lista_compras = ['banana','laranja','maçã']\n",
        "print(lista_compras)"
      ]
    },
    {
      "cell_type": "code",
      "source": [
        "# Buscando a posição [1]:\n",
        "print(lista_compras[1])"
      ],
      "metadata": {
        "colab": {
          "base_uri": "https://localhost:8080/"
        },
        "id": "3bX57HkwCxBg",
        "outputId": "09e06305-9fbc-43e1-f1e5-fdb64891f11f"
      },
      "execution_count": null,
      "outputs": [
        {
          "output_type": "stream",
          "name": "stdout",
          "text": [
            "laranja\n"
          ]
        }
      ]
    },
    {
      "cell_type": "code",
      "source": [
        "# Buscando a posição [0]:\n",
        "\n",
        "print(lista_compras[0])"
      ],
      "metadata": {
        "colab": {
          "base_uri": "https://localhost:8080/"
        },
        "id": "VH6mWhDDC-Xg",
        "outputId": "3bc694fe-b561-4f7e-e1f4-dea290b9bfb7"
      },
      "execution_count": null,
      "outputs": [
        {
          "output_type": "stream",
          "name": "stdout",
          "text": [
            "banana\n"
          ]
        }
      ]
    },
    {
      "cell_type": "code",
      "source": [
        "# O uso de números negativos permite acessar a lista na ordem inversa:\n",
        "\n",
        "print(lista_compras[-1])"
      ],
      "metadata": {
        "colab": {
          "base_uri": "https://localhost:8080/"
        },
        "id": "EPNnFaefDRjT",
        "outputId": "bf95b04c-44c9-430c-a9b7-cc41ed8f5890"
      },
      "execution_count": null,
      "outputs": [
        {
          "output_type": "stream",
          "name": "stdout",
          "text": [
            "maçã\n"
          ]
        }
      ]
    },
    {
      "cell_type": "code",
      "source": [
        "'''Para adicionar um item a lista:\n",
        "\n",
        "- append(): adiciona o item ao final da lista;\n",
        "- insert(): insere um item na lista na posição indicada\n",
        "\n",
        "\n",
        "   Para deletar um item da lista:\n",
        "\n",
        "- del: remove um item da lista baseado na posição indicada;\n",
        "- remove(): remove um item baseado no seu valor e não na sua posição;\n",
        "- pop(): remove da lista_compras o último item, mas não o exclui.\n",
        "\n",
        "\n",
        "A função len() retorna a quantidade de elementos existentes. Na nossa lista_compras, teríamos:\n",
        "print(len(lista_compras))\n",
        "\n",
        "\n",
        "Outras funções:\n",
        "\n",
        "extend: serve para prolongar a lista, pois adiciona no fim todos os elementos do argumento iterable passado como parâmetro.\n",
        "index: devolve o índice base-zero do primeiro item cujo valor é igual a x. Se o valor não existir, o retorno será ValueError.\n",
        "count: retorna o número de vezes em que um elemento aparece na lista.\n",
        "sort: ordena os itens na lista.\n",
        "reverse: inverte a ordem dos elementos na lista.\n",
        "copy: devolve uma cópia rasa da lista.\n",
        "clear: remove todos os itens da lista.'''"
      ],
      "metadata": {
        "id": "dT74ez6eDfsi"
      },
      "execution_count": null,
      "outputs": []
    },
    {
      "cell_type": "code",
      "source": [
        "# No exemplo abaixo tentamos incluir o item ‘carro’ a nossa lista_compras com o .append():\n",
        "\n",
        "lista_compras.append('carro')\n",
        "print(lista_compras)"
      ],
      "metadata": {
        "colab": {
          "base_uri": "https://localhost:8080/"
        },
        "id": "OlZrnU_5D6M6",
        "outputId": "493f35b8-e824-471d-a9a8-7beac4cda820"
      },
      "execution_count": null,
      "outputs": [
        {
          "output_type": "stream",
          "name": "stdout",
          "text": [
            "['banana', 'laranja', 'maçã', 'carro']\n"
          ]
        }
      ]
    },
    {
      "cell_type": "code",
      "source": [
        "# No código abaixo, adicionamos ‘carro’ à lista na posição indicada, com .insert():\n",
        "\n",
        "lista_compras.insert(0,'carro')\n",
        "#clear_output(lista_compras)"
      ],
      "metadata": {
        "id": "T1FNUc6VEKz7"
      },
      "execution_count": null,
      "outputs": []
    },
    {
      "cell_type": "markdown",
      "source": [
        "https://www.hashtagtreinamentos.com/listas-no-python?gclid=Cj0KCQiAgaGgBhC8ARIsAAAyLfHBp0c7BclCe9MewxoqKOEiR9DTeA70M0RuLCdsxnjqdXFuy96c1NQaAlfyEALw_wcB"
      ],
      "metadata": {
        "id": "bHOIMW_7E-ms"
      }
    },
    {
      "cell_type": "code",
      "source": [
        "'''Crie um programa que armazene somente números pares em uma lista de tamanho 10.\n",
        " O usuário pode informar qualquer número inteiro. Ao final imprimir os números em ordem inversa em que foram inseridos. '''\n",
        "\n",
        "numeros = []\n",
        "total = 0\n",
        "while total < 10:\n",
        "  valor = int(input(\"Informe um número inteiro\"))\n",
        "  if valor % 2 == 0:\n",
        "    numeros.append(valor)\n",
        "    total+=1\n",
        "  else:\n",
        "    print(\"Informe um número par\")\n",
        "\n",
        "total=9\n",
        "while (total>=0):\n",
        "  print(numeros[total])\n",
        "  total=total-12\n",
        "  0\n",
        "\n"
      ],
      "metadata": {
        "colab": {
          "base_uri": "https://localhost:8080/",
          "height": 537
        },
        "id": "iWCoF_g_i-mS",
        "outputId": "7b085163-5692-4b0e-f16b-483ce893c46c"
      },
      "execution_count": null,
      "outputs": [
        {
          "name": "stdout",
          "output_type": "stream",
          "text": [
            "Informe um número inteiro2\n",
            "Informe um número inteiro2\n",
            "Informe um número inteiro2\n",
            "Informe um número inteiro2\n",
            "Informe um número inteiro2\n",
            "Informe um número inteiro2\n",
            "Informe um número inteiro2\n",
            "Informe um número inteiro22\n",
            "Informe um número inteiro22\n"
          ]
        },
        {
          "output_type": "error",
          "ename": "KeyboardInterrupt",
          "evalue": "ignored",
          "traceback": [
            "\u001b[0;31m---------------------------------------------------------------------------\u001b[0m",
            "\u001b[0;31mKeyboardInterrupt\u001b[0m                         Traceback (most recent call last)",
            "\u001b[0;32m<ipython-input-4-2928d46fdcf4>\u001b[0m in \u001b[0;36m<module>\u001b[0;34m\u001b[0m\n\u001b[1;32m      5\u001b[0m \u001b[0mtotal\u001b[0m \u001b[0;34m=\u001b[0m \u001b[0;36m0\u001b[0m\u001b[0;34m\u001b[0m\u001b[0;34m\u001b[0m\u001b[0m\n\u001b[1;32m      6\u001b[0m \u001b[0;32mwhile\u001b[0m \u001b[0mtotal\u001b[0m \u001b[0;34m<\u001b[0m \u001b[0;36m10\u001b[0m\u001b[0;34m:\u001b[0m\u001b[0;34m\u001b[0m\u001b[0;34m\u001b[0m\u001b[0m\n\u001b[0;32m----> 7\u001b[0;31m   \u001b[0mvalor\u001b[0m \u001b[0;34m=\u001b[0m \u001b[0mint\u001b[0m\u001b[0;34m(\u001b[0m\u001b[0minput\u001b[0m\u001b[0;34m(\u001b[0m\u001b[0;34m\"Informe um número inteiro\"\u001b[0m\u001b[0;34m)\u001b[0m\u001b[0;34m)\u001b[0m\u001b[0;34m\u001b[0m\u001b[0;34m\u001b[0m\u001b[0m\n\u001b[0m\u001b[1;32m      8\u001b[0m   \u001b[0;32mif\u001b[0m \u001b[0mvalor\u001b[0m \u001b[0;34m%\u001b[0m \u001b[0;36m2\u001b[0m \u001b[0;34m==\u001b[0m \u001b[0;36m0\u001b[0m\u001b[0;34m:\u001b[0m\u001b[0;34m\u001b[0m\u001b[0;34m\u001b[0m\u001b[0m\n\u001b[1;32m      9\u001b[0m     \u001b[0mnumeros\u001b[0m\u001b[0;34m.\u001b[0m\u001b[0mappend\u001b[0m\u001b[0;34m(\u001b[0m\u001b[0mvalor\u001b[0m\u001b[0;34m)\u001b[0m\u001b[0;34m\u001b[0m\u001b[0;34m\u001b[0m\u001b[0m\n",
            "\u001b[0;32m/usr/local/lib/python3.9/dist-packages/ipykernel/kernelbase.py\u001b[0m in \u001b[0;36mraw_input\u001b[0;34m(self, prompt)\u001b[0m\n\u001b[1;32m    858\u001b[0m                 \u001b[0;34m\"raw_input was called, but this frontend does not support input requests.\"\u001b[0m\u001b[0;34m\u001b[0m\u001b[0;34m\u001b[0m\u001b[0m\n\u001b[1;32m    859\u001b[0m             )\n\u001b[0;32m--> 860\u001b[0;31m         return self._input_request(str(prompt),\n\u001b[0m\u001b[1;32m    861\u001b[0m             \u001b[0mself\u001b[0m\u001b[0;34m.\u001b[0m\u001b[0m_parent_ident\u001b[0m\u001b[0;34m,\u001b[0m\u001b[0;34m\u001b[0m\u001b[0;34m\u001b[0m\u001b[0m\n\u001b[1;32m    862\u001b[0m             \u001b[0mself\u001b[0m\u001b[0;34m.\u001b[0m\u001b[0m_parent_header\u001b[0m\u001b[0;34m,\u001b[0m\u001b[0;34m\u001b[0m\u001b[0;34m\u001b[0m\u001b[0m\n",
            "\u001b[0;32m/usr/local/lib/python3.9/dist-packages/ipykernel/kernelbase.py\u001b[0m in \u001b[0;36m_input_request\u001b[0;34m(self, prompt, ident, parent, password)\u001b[0m\n\u001b[1;32m    902\u001b[0m             \u001b[0;32mexcept\u001b[0m \u001b[0mKeyboardInterrupt\u001b[0m\u001b[0;34m:\u001b[0m\u001b[0;34m\u001b[0m\u001b[0;34m\u001b[0m\u001b[0m\n\u001b[1;32m    903\u001b[0m                 \u001b[0;31m# re-raise KeyboardInterrupt, to truncate traceback\u001b[0m\u001b[0;34m\u001b[0m\u001b[0;34m\u001b[0m\u001b[0m\n\u001b[0;32m--> 904\u001b[0;31m                 \u001b[0;32mraise\u001b[0m \u001b[0mKeyboardInterrupt\u001b[0m\u001b[0;34m(\u001b[0m\u001b[0;34m\"Interrupted by user\"\u001b[0m\u001b[0;34m)\u001b[0m \u001b[0;32mfrom\u001b[0m \u001b[0;32mNone\u001b[0m\u001b[0;34m\u001b[0m\u001b[0;34m\u001b[0m\u001b[0m\n\u001b[0m\u001b[1;32m    905\u001b[0m             \u001b[0;32mexcept\u001b[0m \u001b[0mException\u001b[0m \u001b[0;32mas\u001b[0m \u001b[0me\u001b[0m\u001b[0;34m:\u001b[0m\u001b[0;34m\u001b[0m\u001b[0;34m\u001b[0m\u001b[0m\n\u001b[1;32m    906\u001b[0m                 \u001b[0mself\u001b[0m\u001b[0;34m.\u001b[0m\u001b[0mlog\u001b[0m\u001b[0;34m.\u001b[0m\u001b[0mwarning\u001b[0m\u001b[0;34m(\u001b[0m\u001b[0;34m\"Invalid Message:\"\u001b[0m\u001b[0;34m,\u001b[0m \u001b[0mexc_info\u001b[0m\u001b[0;34m=\u001b[0m\u001b[0;32mTrue\u001b[0m\u001b[0;34m)\u001b[0m\u001b[0;34m\u001b[0m\u001b[0;34m\u001b[0m\u001b[0m\n",
            "\u001b[0;31mKeyboardInterrupt\u001b[0m: Interrupted by user"
          ]
        }
      ]
    },
    {
      "cell_type": "code",
      "source": [
        "import random\n",
        "import matplotlib\n",
        "\n",
        "def criaindividuo(min,max):\n",
        "  return[random.randint(min,max)\n",
        "  for i in range(tam_individuo)]\n",
        "\n",
        "def criapopulacao():\n",
        "  populacao=[]\n",
        "  for i in range(tam_populacao):\n",
        "    for j in range(1):\n",
        "      individuo=criaindividuo(0,9)\n",
        "    populacao.append(individuo)\n",
        "  return populacao\n",
        "\n",
        "#modelo=[1,1,1,1,1,1,1,1,1,1]\n",
        "tam_populacao=10\n",
        "tam_individuo=10\n",
        "populacao=criapopulacao()\n",
        "print(populacao)\n"
      ],
      "metadata": {
        "colab": {
          "base_uri": "https://localhost:8080/"
        },
        "id": "GxCdnVPO7hCt",
        "outputId": "31da2cfd-757d-4e67-a598-68fa6952c0b5"
      },
      "execution_count": null,
      "outputs": [
        {
          "output_type": "stream",
          "name": "stdout",
          "text": [
            "[[0, 8, 0, 3, 1, 7, 6, 5, 7, 4], [0, 8, 7, 7, 7, 8, 4, 1, 7, 5], [4, 5, 3, 1, 9, 0, 4, 3, 3, 7], [6, 7, 8, 0, 5, 4, 0, 1, 7, 3], [5, 0, 8, 8, 1, 6, 7, 4, 9, 2], [6, 8, 2, 1, 7, 6, 9, 7, 8, 6], [6, 9, 7, 1, 1, 9, 7, 2, 0, 0], [2, 6, 9, 6, 2, 6, 4, 7, 9, 0], [4, 9, 2, 3, 8, 7, 6, 9, 8, 1], [4, 7, 9, 6, 3, 8, 2, 6, 1, 4]]\n"
          ]
        }
      ]
    }
  ]
}